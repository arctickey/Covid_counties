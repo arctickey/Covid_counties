{
 "cells": [
  {
   "cell_type": "code",
   "execution_count": 17,
   "metadata": {},
   "outputs": [],
   "source": [
    "from pyspark.sql import SparkSession\n",
    "from pyspark.sql import functions as F\n",
    "#spark = SparkSession.builder.appName('covid').getOrCreate()"
   ]
  },
  {
   "cell_type": "code",
   "execution_count": null,
   "metadata": {},
   "outputs": [],
   "source": []
  },
  {
   "cell_type": "code",
   "execution_count": 2,
   "metadata": {},
   "outputs": [],
   "source": [
    "spark = SparkSession \\\n",
    "    .builder \\\n",
    "    .appName(\"Postgress\") \\\n",
    "    .config(\"spark.jars\", \"postgresql-42.2.18.jre7.jar\") \\\n",
    "    .getOrCreate()"
   ]
  },
  {
   "cell_type": "code",
   "execution_count": 7,
   "metadata": {},
   "outputs": [],
   "source": [
    "base = spark.read \\\n",
    "    .format(\"jdbc\") \\\n",
    "    .option(\"url\", \"jdbc:postgresql://db:5432/database\")\\\n",
    "    .option(\"dbtable\", \"base_covid\") \\\n",
    "    .option(\"user\", \"username\") \\\n",
    "    .option(\"password\", \"secret\") \\\n",
    "    .option(\"driver\", \"org.postgresql.Driver\") \\\n",
    "    .load()"
   ]
  },
  {
   "cell_type": "code",
   "execution_count": 24,
   "metadata": {},
   "outputs": [
    {
     "name": "stdout",
     "output_type": "stream",
     "text": [
      "+-----+----------+-------------+----------+------+-----+------+\n",
      "|index|      date|       county|     state|  fips|cases|deaths|\n",
      "+-----+----------+-------------+----------+------+-----+------+\n",
      "|   49|2020-02-02|San Francisco|California|6075.0|    2|   0.0|\n",
      "|   57|2020-02-03|San Francisco|California|6075.0|    2|   0.0|\n",
      "|   65|2020-02-04|San Francisco|California|6075.0|    2|   0.0|\n",
      "|   73|2020-02-05|San Francisco|California|6075.0|    2|   0.0|\n",
      "|   82|2020-02-06|San Francisco|California|6075.0|    2|   0.0|\n",
      "|   91|2020-02-07|San Francisco|California|6075.0|    2|   0.0|\n",
      "|  100|2020-02-08|San Francisco|California|6075.0|    2|   0.0|\n",
      "|  109|2020-02-09|San Francisco|California|6075.0|    2|   0.0|\n",
      "|  119|2020-02-10|San Francisco|California|6075.0|    2|   0.0|\n",
      "|  129|2020-02-11|San Francisco|California|6075.0|    2|   0.0|\n",
      "|  139|2020-02-12|San Francisco|California|6075.0|    2|   0.0|\n",
      "|  150|2020-02-13|San Francisco|California|6075.0|    2|   0.0|\n",
      "|  161|2020-02-14|San Francisco|California|6075.0|    2|   0.0|\n",
      "|  172|2020-02-15|San Francisco|California|6075.0|    2|   0.0|\n",
      "|  183|2020-02-16|San Francisco|California|6075.0|    2|   0.0|\n",
      "|  194|2020-02-17|San Francisco|California|6075.0|    2|   0.0|\n",
      "|  206|2020-02-18|San Francisco|California|6075.0|    2|   0.0|\n",
      "|  218|2020-02-19|San Francisco|California|6075.0|    2|   0.0|\n",
      "|  231|2020-02-20|San Francisco|California|6075.0|    2|   0.0|\n",
      "|  245|2020-02-21|San Francisco|California|6075.0|    2|   0.0|\n",
      "+-----+----------+-------------+----------+------+-----+------+\n",
      "only showing top 20 rows\n",
      "\n"
     ]
    }
   ],
   "source": [
    "base.filter(base.county=='San Francisco').show()"
   ]
  },
  {
   "cell_type": "code",
   "execution_count": 9,
   "metadata": {},
   "outputs": [],
   "source": [
    "education = spark.read \\\n",
    "    .format(\"jdbc\") \\\n",
    "    .option(\"url\", \"jdbc:postgresql://db:5432/database\")\\\n",
    "    .option(\"dbtable\", \"education\") \\\n",
    "    .option(\"user\", \"username\") \\\n",
    "    .option(\"password\", \"secret\") \\\n",
    "    .option(\"driver\", \"org.postgresql.Driver\") \\\n",
    "    .load()"
   ]
  },
  {
   "cell_type": "code",
   "execution_count": 11,
   "metadata": {},
   "outputs": [
    {
     "name": "stdout",
     "output_type": "stream",
     "text": [
      "+--------------------+----------+-------+---------+--------------+----------+-----------+\n",
      "|            Geo_Name|25Plus_Pop|HS_plus|Bach_plus|Adanced_Degree|State_FIPS|County_FIPS|\n",
      "+--------------------+----------+-------+---------+--------------+----------+-----------+\n",
      "|Washington County...|   30308.0|   78.5|     18.8|           7.3|        28|        151|\n",
      "|Perry County, Mis...|    8198.0|   81.3|     11.0|           2.5|        28|        111|\n",
      "|Choctaw County, M...|    5799.0|   80.4|     17.7|           6.9|        28|         19|\n",
      "|Itawamba County, ...|   15684.0|   78.5|     13.4|           4.9|        28|         57|\n",
      "|Carroll County, M...|    7248.0|   81.7|     14.5|           5.0|        28|         15|\n",
      "|Grenada County, M...|   14357.0|   80.0|     19.7|           7.2|        28|         43|\n",
      "|Jefferson County,...|    5006.0|   74.8|     15.0|           9.6|        28|         63|\n",
      "|Greene County, Mi...|    9732.0|   77.1|      8.6|           2.3|        28|         41|\n",
      "|Marshall County, ...|   24521.0|   81.3|     13.7|           3.7|        28|         93|\n",
      "|Quitman County, M...|    4930.0|   70.6|     11.4|           3.7|        28|        119|\n",
      "|Bolivar County, M...|   20837.0|   76.9|     23.8|           9.5|        28|         11|\n",
      "|Lamar County, Mis...|   40319.0|   90.8|     35.2|          13.0|        28|         73|\n",
      "|Lee County, Missi...|   56010.0|   83.8|     23.9|           8.6|        28|         81|\n",
      "|Pike County, Miss...|   25520.0|   81.7|     15.5|           5.3|        28|        113|\n",
      "|Tallahatchie Coun...|    9956.0|   68.9|     11.4|           3.7|        28|        135|\n",
      "|Smith County, Mis...|   10916.0|   81.6|     12.5|           5.8|        28|        129|\n",
      "|Stone County, Mis...|   11911.0|   80.3|     14.5|           4.4|        28|        131|\n",
      "|Warren County, Mi...|   31568.0|   87.2|     23.3|           9.3|        28|        149|\n",
      "|Clarke County, Mi...|   11016.0|   81.0|     11.7|           3.8|        28|         23|\n",
      "|Kemper County, Mi...|    6824.0|   83.3|     11.0|           4.3|        28|         69|\n",
      "+--------------------+----------+-------+---------+--------------+----------+-----------+\n",
      "only showing top 20 rows\n",
      "\n"
     ]
    }
   ],
   "source": [
    "education.show()"
   ]
  },
  {
   "cell_type": "code",
   "execution_count": 12,
   "metadata": {},
   "outputs": [],
   "source": [
    "income = spark.read \\\n",
    "    .format(\"jdbc\") \\\n",
    "    .option(\"url\", \"jdbc:postgresql://db:5432/database\")\\\n",
    "    .option(\"dbtable\", \"income\") \\\n",
    "    .option(\"user\", \"username\") \\\n",
    "    .option(\"password\", \"secret\") \\\n",
    "    .option(\"driver\", \"org.postgresql.Driver\") \\\n",
    "    .load()"
   ]
  },
  {
   "cell_type": "code",
   "execution_count": 14,
   "metadata": {},
   "outputs": [
    {
     "name": "stdout",
     "output_type": "stream",
     "text": [
      "+----+---------------------------+------------------------------------+----------------+---------------------+------------------+----------+-------------------+\n",
      "|Rank|County or county-equivalent|State, federal district or territory|Per capitaincome|Medianhouseholdincome|Medianfamilyincome|Population|Number ofhouseholds|\n",
      "+----+---------------------------+------------------------------------+----------------+---------------------+------------------+----------+-------------------+\n",
      "|   1|            New York County|                            New York|         $62,498|              $69,659|           $84,627| 1605272.0|           736192.0|\n",
      "|   2|                  Arlington|                            Virginia|         $62,018|             $103,208|          $139,244|  214861.0|            94454.0|\n",
      "|   3|          Falls Church City|                            Virginia|         $59,088|             $120,000|          $152,857|   12731.0|             5020.0|\n",
      "|   4|                      Marin|                          California|         $56,791|              $90,839|          $117,357|  254643.0|           102912.0|\n",
      "|   5|            Alexandria City|                            Virginia|         $54,608|              $85,706|          $107,511|  143684.0|            65369.0|\n",
      "|   6|                     Pitkin|                            Colorado|         $51,814|              $72,745|           $93,981|   17173.0|             7507.0|\n",
      "|   7|                 Los Alamos|                          New Mexico|         $51,044|             $106,686|          $124,979|   17979.0|             7590.0|\n",
      "|   8|             Fairfax County|                            Virginia|         $50,532|             $110,292|          $128,596| 1101071.0|           389908.0|\n",
      "|   9|                  Hunterdon|                          New Jersey|         $50,349|             $106,143|          $125,828|  127047.0|            46816.0|\n",
      "|  10|                     Borden|                               Texas|         $50,042|              $71,607|           $76,250|     649.0|              225.0|\n",
      "|  11|                 Montgomery|                            Maryland|         $49,038|              $98,221|          $117,408|  989474.0|           360563.0|\n",
      "|  12|                     Morris|                          New Jersey|         $48,814|              $98,633|          $117,683|  495261.0|           179665.0|\n",
      "|  13|                  Fairfield|                         Connecticut|         $48,721|              $82,283|          $104,250|  926233.0|           332655.0|\n",
      "|  14|              San Francisco|                          California|         $48,486|              $75,604|           $90,116|  817501.0|           345344.0|\n",
      "|  15|                     Howard|                            Maryland|         $48,172|             $109,865|          $128,657|  293821.0|           106142.0|\n",
      "|  16|                Westchester|                            New York|         $47,984|              $81,946|          $105,341|  956283.0|           343561.0|\n",
      "|  17|                   Somerset|                          New Jersey|         $47,803|              $99,020|          $117,393|  326207.0|           115531.0|\n",
      "|  18|                  Nantucket|                       Massachusetts|         $47,331|              $85,478|           $92,500|   10224.0|             4069.0|\n",
      "|  19|                    Loudoun|                            Virginia|         $46,565|             $122,238|          $133,550|  326477.0|           106997.0|\n",
      "|  20|                North Slope|                              Alaska|         $46,457|              $80,761|           $82,500|    9484.0|             1990.0|\n",
      "+----+---------------------------+------------------------------------+----------------+---------------------+------------------+----------+-------------------+\n",
      "only showing top 20 rows\n",
      "\n"
     ]
    }
   ],
   "source": [
    "income.show()"
   ]
  },
  {
   "cell_type": "code",
   "execution_count": 15,
   "metadata": {},
   "outputs": [],
   "source": [
    "poverty = spark.read \\\n",
    "    .format(\"jdbc\") \\\n",
    "    .option(\"url\", \"jdbc:postgresql://db:5432/database\")\\\n",
    "    .option(\"dbtable\", \"poverty\") \\\n",
    "    .option(\"user\", \"username\") \\\n",
    "    .option(\"password\", \"secret\") \\\n",
    "    .option(\"driver\", \"org.postgresql.Driver\") \\\n",
    "    .load()"
   ]
  },
  {
   "cell_type": "code",
   "execution_count": 16,
   "metadata": {},
   "outputs": [
    {
     "name": "stdout",
     "output_type": "stream",
     "text": [
      "+--------------------+---------+---------+---------+--------+--------------+--------------+----------+-----------+\n",
      "|            Geo_Name|Total_Pop|Child_Pop|Elder_Pop|Pov_Rate|Pov_Rate_Child|Pov_Rate_Elder|State_FIPS|County_FIPS|\n",
      "+--------------------+---------+---------+---------+--------+--------------+--------------+----------+-----------+\n",
      "|Washington County...|    47086|    12349|     6953|    33.3|          48.1|          17.1|        28|        151|\n",
      "|Perry County, Mis...|    12028|     2809|     2072|    18.7|          25.6|          16.6|        28|        111|\n",
      "|Choctaw County, M...|     8321|     1844|     1740|    23.3|          38.3|          13.1|        28|         19|\n",
      "|Itawamba County, ...|    23480|     5134|     4005|    15.4|          18.3|          13.0|        28|         57|\n",
      "|Carroll County, M...|    10129|     1969|     2249|    14.8|          18.1|          14.9|        28|         15|\n",
      "|Grenada County, M...|    21278|     5071|     3644|    24.5|          39.9|          11.3|        28|         43|\n",
      "|Jefferson County,...|     7346|     1688|     1095|    49.7|          65.4|          35.8|        28|         63|\n",
      "|Greene County, Mi...|    13714|     2716|     1776|    14.5|          17.2|           5.0|        28|         41|\n",
      "|Marshall County, ...|    35787|     7720|     5857|    18.3|          30.1|          12.9|        28|         93|\n",
      "|Quitman County, M...|     7372|     1789|     1180|    35.5|          55.5|          18.8|        28|        119|\n",
      "|Bolivar County, M...|    32592|     8145|     4739|    34.6|          46.3|          15.5|        28|         11|\n",
      "|Lamar County, Mis...|    61223|    15454|     7777|    16.5|          19.7|           6.6|        28|         73|\n",
      "|Lee County, Missi...|    84915|    21752|    12089|    15.9|          22.1|          10.5|        28|         81|\n",
      "|Pike County, Miss...|    39737|    10439|     6489|    33.8|          47.4|          20.0|        28|        113|\n",
      "|Tallahatchie Coun...|    14361|     2876|     2054|    30.6|          44.6|          23.1|        28|        135|\n",
      "|Smith County, Mis...|    16063|     3884|     2939|    16.9|          25.5|          10.5|        28|        129|\n",
      "|Stone County, Mis...|    18375|     4059|     2822|    17.1|          25.9|          12.1|        28|        131|\n",
      "|Warren County, Mi...|    47075|    11509|     7429|    20.6|          29.1|          10.4|        28|        149|\n",
      "|Clarke County, Mi...|    15928|     3601|     3113|    19.3|          31.3|          13.1|        28|         23|\n",
      "|Kemper County, Mi...|    10107|     1949|     1891|    30.0|          45.1|          14.1|        28|         69|\n",
      "+--------------------+---------+---------+---------+--------+--------------+--------------+----------+-----------+\n",
      "only showing top 20 rows\n",
      "\n"
     ]
    }
   ],
   "source": [
    "poverty.show()"
   ]
  }
 ],
 "metadata": {
  "kernelspec": {
   "display_name": "Python 3",
   "language": "python",
   "name": "python3"
  },
  "language_info": {
   "codemirror_mode": {
    "name": "ipython",
    "version": 3
   },
   "file_extension": ".py",
   "mimetype": "text/x-python",
   "name": "python",
   "nbconvert_exporter": "python",
   "pygments_lexer": "ipython3",
   "version": "3.8.6"
  }
 },
 "nbformat": 4,
 "nbformat_minor": 4
}
