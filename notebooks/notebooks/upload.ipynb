{
 "cells": [
  {
   "cell_type": "code",
   "execution_count": 22,
   "metadata": {},
   "outputs": [],
   "source": [
    "import requests\n",
    "import pandas as pd\n",
    "import json\n",
    "import psycopg2\n",
    "from sqlalchemy import create_engine\n"
   ]
  },
  {
   "cell_type": "code",
   "execution_count": 20,
   "metadata": {},
   "outputs": [],
   "source": [
    "def save_table(df,name):\n",
    "    import io\n",
    "    df.head(0).to_sql(f'{name}', engine, if_exists='replace',index=False) #truncates the table\n",
    "\n",
    "    conn = engine.raw_connection()\n",
    "    cur = conn.cursor()\n",
    "    output = io.StringIO()\n",
    "    df.to_csv(output, sep='\\t', header=False, index=False)\n",
    "    output.seek(0)\n",
    "    contents = output.getvalue()\n",
    "    cur.copy_from(output, f'{name}' , null=\"\") # null values become ''\n",
    "    conn.commit()\n",
    "    return"
   ]
  },
  {
   "cell_type": "code",
   "execution_count": 23,
   "metadata": {},
   "outputs": [],
   "source": [
    "engine = create_engine('postgresql+psycopg2://username:secret@db:5432/database')\n",
    "conn = psycopg2.connect(database=\"database\",user=\"username\", password=\"secret\",host=\"db\", port=\"5432\")\n",
    "cur = conn.cursor()"
   ]
  },
  {
   "cell_type": "code",
   "execution_count": null,
   "metadata": {},
   "outputs": [],
   "source": [
    "data = 'https://api.covidtracking.com/v1/states/daily.json'\n",
    "d =requests.get(data)\n",
    "df = pd.read_json(d.text)\n"
   ]
  },
  {
   "cell_type": "code",
   "execution_count": 24,
   "metadata": {},
   "outputs": [],
   "source": [
    "save_table(df,'daily_covid')"
   ]
  },
  {
   "cell_type": "code",
   "execution_count": 26,
   "metadata": {},
   "outputs": [],
   "source": [
    "#https://github.com/nytimes/covid-19-data\n",
    "data = 'https://raw.githubusercontent.com/nytimes/covid-19-data/master/us-counties.csv'\n",
    "df = pd.read_csv(data)"
   ]
  },
  {
   "cell_type": "code",
   "execution_count": null,
   "metadata": {},
   "outputs": [],
   "source": [
    "save_table(df,'base_covid')"
   ]
  },
  {
   "cell_type": "code",
   "execution_count": 40,
   "metadata": {},
   "outputs": [],
   "source": [
    "#docs https://www2.census.gov/programs-surveys/popest/technical-documentation/file-layouts/2010-2019/cc-est2019-alldata.pdf\n",
    "data = 'https://www2.census.gov/programs-surveys/popest/datasets/2010-2019/counties/asrh/cc-est2019-alldata.csv'\n",
    "df = pd.read_csv(data,encoding='ISO-8859-1')\n",
    "df = df.query('YEAR==12')\n",
    "save_table(df,'population')"
   ]
  },
  {
   "cell_type": "code",
   "execution_count": 16,
   "metadata": {},
   "outputs": [
    {
     "data": {
      "text/html": [
       "<div>\n",
       "<style scoped>\n",
       "    .dataframe tbody tr th:only-of-type {\n",
       "        vertical-align: middle;\n",
       "    }\n",
       "\n",
       "    .dataframe tbody tr th {\n",
       "        vertical-align: top;\n",
       "    }\n",
       "\n",
       "    .dataframe thead th {\n",
       "        text-align: right;\n",
       "    }\n",
       "</style>\n",
       "<table border=\"1\" class=\"dataframe\">\n",
       "  <thead>\n",
       "    <tr style=\"text-align: right;\">\n",
       "      <th></th>\n",
       "      <th>Geo_Name</th>\n",
       "      <th>Total_Pop</th>\n",
       "      <th>Child_Pop</th>\n",
       "      <th>Elder_Pop</th>\n",
       "      <th>Pov_Rate</th>\n",
       "      <th>Pov_Rate_Child</th>\n",
       "      <th>Pov_Rate_Elder</th>\n",
       "      <th>State_FIPS</th>\n",
       "      <th>County_FIPS</th>\n",
       "    </tr>\n",
       "  </thead>\n",
       "  <tbody>\n",
       "    <tr>\n",
       "      <th>0</th>\n",
       "      <td>Washington County, Mississippi</td>\n",
       "      <td>47086</td>\n",
       "      <td>12349</td>\n",
       "      <td>6953</td>\n",
       "      <td>33.3</td>\n",
       "      <td>48.1</td>\n",
       "      <td>17.1</td>\n",
       "      <td>28</td>\n",
       "      <td>151</td>\n",
       "    </tr>\n",
       "    <tr>\n",
       "      <th>1</th>\n",
       "      <td>Perry County, Mississippi</td>\n",
       "      <td>12028</td>\n",
       "      <td>2809</td>\n",
       "      <td>2072</td>\n",
       "      <td>18.7</td>\n",
       "      <td>25.6</td>\n",
       "      <td>16.6</td>\n",
       "      <td>28</td>\n",
       "      <td>111</td>\n",
       "    </tr>\n",
       "    <tr>\n",
       "      <th>2</th>\n",
       "      <td>Choctaw County, Mississippi</td>\n",
       "      <td>8321</td>\n",
       "      <td>1844</td>\n",
       "      <td>1740</td>\n",
       "      <td>23.3</td>\n",
       "      <td>38.3</td>\n",
       "      <td>13.1</td>\n",
       "      <td>28</td>\n",
       "      <td>19</td>\n",
       "    </tr>\n",
       "    <tr>\n",
       "      <th>3</th>\n",
       "      <td>Itawamba County, Mississippi</td>\n",
       "      <td>23480</td>\n",
       "      <td>5134</td>\n",
       "      <td>4005</td>\n",
       "      <td>15.4</td>\n",
       "      <td>18.3</td>\n",
       "      <td>13.0</td>\n",
       "      <td>28</td>\n",
       "      <td>57</td>\n",
       "    </tr>\n",
       "    <tr>\n",
       "      <th>4</th>\n",
       "      <td>Carroll County, Mississippi</td>\n",
       "      <td>10129</td>\n",
       "      <td>1969</td>\n",
       "      <td>2249</td>\n",
       "      <td>14.8</td>\n",
       "      <td>18.1</td>\n",
       "      <td>14.9</td>\n",
       "      <td>28</td>\n",
       "      <td>15</td>\n",
       "    </tr>\n",
       "  </tbody>\n",
       "</table>\n",
       "</div>"
      ],
      "text/plain": [
       "                         Geo_Name  Total_Pop  Child_Pop  Elder_Pop  Pov_Rate  \\\n",
       "0  Washington County, Mississippi      47086      12349       6953      33.3   \n",
       "1       Perry County, Mississippi      12028       2809       2072      18.7   \n",
       "2     Choctaw County, Mississippi       8321       1844       1740      23.3   \n",
       "3    Itawamba County, Mississippi      23480       5134       4005      15.4   \n",
       "4     Carroll County, Mississippi      10129       1969       2249      14.8   \n",
       "\n",
       "   Pov_Rate_Child  Pov_Rate_Elder  State_FIPS  County_FIPS  \n",
       "0            48.1            17.1          28          151  \n",
       "1            25.6            16.6          28          111  \n",
       "2            38.3            13.1          28           19  \n",
       "3            18.3            13.0          28           57  \n",
       "4            18.1            14.9          28           15  "
      ]
     },
     "execution_count": 16,
     "metadata": {},
     "output_type": "execute_result"
    }
   ],
   "source": [
    "data = 'https://overflow.solutions/wp-content/uploads/2020/05/Poverty_County_18.csv'\n",
    "df = pd.read_csv(data)"
   ]
  },
  {
   "cell_type": "code",
   "execution_count": 21,
   "metadata": {},
   "outputs": [],
   "source": [
    "save_table(df,'poverty')"
   ]
  },
  {
   "cell_type": "code",
   "execution_count": 45,
   "metadata": {},
   "outputs": [],
   "source": [
    "#https://overflow.solutions/demographic-traits/education/what-u-s-counties-are-the-most-educated/\n",
    "data = 'https://overflow.solutions/wp-content/uploads/2020/04/Educ_Attain_County_18.csv'\n",
    "df = pd.read_csv(data)"
   ]
  },
  {
   "cell_type": "code",
   "execution_count": 46,
   "metadata": {},
   "outputs": [],
   "source": [
    "save_table(df,'education')"
   ]
  },
  {
   "cell_type": "code",
   "execution_count": 4,
   "metadata": {},
   "outputs": [],
   "source": [
    "import requests\n",
    "#website_url = requests.get('https://en.wikipedia.org/wiki/List_of_United_States_counties_by_per_capita_income').text\n",
    "from bs4 import BeautifulSoup\n",
    "soup = BeautifulSoup(website_url,'html.parser')\n",
    "table = soup.find('table',{'class':'wikitable sortable'})\n",
    "df = pd.read_html(str(table))\n",
    "df = pd.DataFrame(df[0])\n",
    "save_table(df,'income')"
   ]
  }
 ],
 "metadata": {
  "kernelspec": {
   "display_name": "Python 3",
   "language": "python",
   "name": "python3"
  },
  "language_info": {
   "codemirror_mode": {
    "name": "ipython",
    "version": 3
   },
   "file_extension": ".py",
   "mimetype": "text/x-python",
   "name": "python",
   "nbconvert_exporter": "python",
   "pygments_lexer": "ipython3",
   "version": "3.8.6"
  }
 },
 "nbformat": 4,
 "nbformat_minor": 4
}
