{
 "cells": [
  {
   "cell_type": "code",
   "execution_count": 18,
   "metadata": {},
   "outputs": [],
   "source": [
    "from pyspark.sql import SparkSession\n",
    "from pyspark.sql import functions as F\n",
    "from pyspark.sql.types import *\n",
    "from sqlalchemy import create_engine\n",
    "from download import save\n",
    "save()\n",
    "spark = SparkSession \\\n",
    "    .builder \\\n",
    "    .appName(\"Postgress\") \\\n",
    "    .config(\"spark.jars\", \"postgresql-42.2.18.jre7.jar\") \\\n",
    "    .getOrCreate()"
   ]
  },
  {
   "cell_type": "code",
   "execution_count": 5,
   "metadata": {},
   "outputs": [],
   "source": [
    "import psycopg2\n",
    "from sqlalchemy import create_engine\n",
    "def dropTable(name):\n",
    "    engine = create_engine('postgresql+psycopg2://username:secret@db:5432/database')\n",
    "    conn = psycopg2.connect(database=\"database\",user=\"username\", password=\"secret\",host=\"db\", port=\"5432\")\n",
    "    cur = conn.cursor()\n",
    "    sql=\"\"\"DROP TABLE \"\"\"+f'{name}'+\"\"\";\"\"\"\n",
    "    cur.execute(sql)\n",
    "    conn.commit()\n",
    "\n"
   ]
  },
  {
   "cell_type": "code",
   "execution_count": 44,
   "metadata": {},
   "outputs": [
    {
     "name": "stdout",
     "output_type": "stream",
     "text": [
      "('base',)\n",
      "('education',)\n",
      "('poverty',)\n",
      "('population',)\n",
      "('daily',)\n"
     ]
    }
   ],
   "source": [
    "engine = create_engine('postgresql+psycopg2://username:secret@db:5432/database')\n",
    "conn = psycopg2.connect(database=\"database\",user=\"username\", password=\"secret\",host=\"db\", port=\"5432\")\n",
    "cur = conn.cursor()\n",
    "cur.execute(\"\"\"SELECT table_name FROM information_schema.tables\n",
    "       WHERE table_schema = 'public'\"\"\")\n",
    "\n",
    "tables = []\n",
    "for table in cur.fetchall():\n",
    "    tables.append(table[0])"
   ]
  },
  {
   "cell_type": "markdown",
   "metadata": {},
   "source": [
    "# Base"
   ]
  },
  {
   "cell_type": "code",
   "execution_count": 33,
   "metadata": {},
   "outputs": [
    {
     "data": {
      "text/plain": [
       "1079469"
      ]
     },
     "execution_count": 33,
     "metadata": {},
     "output_type": "execute_result"
    }
   ],
   "source": [
    "base = spark.read \\\n",
    "    .format(\"jdbc\") \\\n",
    "    .option(\"url\", \"jdbc:postgresql://db:5432/database\")\\\n",
    "    .option(\"dbtable\", 'base_covid_tmp') \\\n",
    "    .option(\"user\", \"username\") \\\n",
    "    .option(\"password\", \"secret\") \\\n",
    "    .option(\"driver\", \"org.postgresql.Driver\") \\\n",
    "    .load()\n",
    "\n",
    "\n",
    "base = base.withColumn(\"fips\", base[\"fips\"].cast(IntegerType()))\n",
    "base = base.withColumn(\"fips\", base[\"fips\"].cast(StringType()))\n",
    "base = base.withColumnRenamed('fips','FIPS')\n",
    "base.count()"
   ]
  },
  {
   "cell_type": "code",
   "execution_count": 34,
   "metadata": {},
   "outputs": [],
   "source": [
    "base.write \\\n",
    "    .format(\"jdbc\") \\\n",
    "    .option(\"url\", \"jdbc:postgresql://db:5432/database\")\\\n",
    "    .option(\"dbtable\", 'base') \\\n",
    "    .option(\"user\", \"username\") \\\n",
    "    .option(\"password\", \"secret\") \\\n",
    "    .option(\"driver\", \"org.postgresql.Driver\") \\\n",
    "    .save()"
   ]
  },
  {
   "cell_type": "markdown",
   "metadata": {},
   "source": [
    "# Education"
   ]
  },
  {
   "cell_type": "code",
   "execution_count": 35,
   "metadata": {},
   "outputs": [],
   "source": [
    "education = spark.read \\\n",
    "    .format(\"jdbc\") \\\n",
    "    .option(\"url\", \"jdbc:postgresql://db:5432/database\")\\\n",
    "    .option(\"dbtable\", \"education_tmp\") \\\n",
    "    .option(\"user\", \"username\") \\\n",
    "    .option(\"password\", \"secret\") \\\n",
    "    .option(\"driver\", \"org.postgresql.Driver\") \\\n",
    "    .load()\n",
    "\n",
    "col_list = ['State_Fips','County_FIPS']\n",
    "education = education.withColumn('FIPS',F.concat(*col_list))\n",
    "columns_to_drop = ['Geo_Name','State_Fips','County_Fips']\n",
    "education = education.drop(*columns_to_drop)\n",
    "education.count()\n",
    "education.write \\\n",
    "    .format(\"jdbc\") \\\n",
    "    .option(\"url\", \"jdbc:postgresql://db:5432/database\")\\\n",
    "    .option(\"dbtable\", \"education\") \\\n",
    "    .option(\"user\", \"username\") \\\n",
    "    .option(\"password\", \"secret\") \\\n",
    "    .option(\"driver\", \"org.postgresql.Driver\") \\\n",
    "    .save()"
   ]
  },
  {
   "cell_type": "markdown",
   "metadata": {},
   "source": [
    "# Poverty"
   ]
  },
  {
   "cell_type": "code",
   "execution_count": 36,
   "metadata": {},
   "outputs": [],
   "source": [
    "poverty = spark.read \\\n",
    "    .format(\"jdbc\") \\\n",
    "    .option(\"url\", \"jdbc:postgresql://db:5432/database\")\\\n",
    "    .option(\"dbtable\", \"poverty_tmp\") \\\n",
    "    .option(\"user\", \"username\") \\\n",
    "    .option(\"password\", \"secret\") \\\n",
    "    .option(\"driver\", \"org.postgresql.Driver\") \\\n",
    "    .load()\n",
    "\n",
    "\n",
    "col_list = ['State_Fips','County_FIPS']\n",
    "poverty= poverty.withColumn('FIPS',F.concat(*col_list))\n",
    "columns_to_drop = ['Geo_Name','State_Fips','County_Fips']\n",
    "poverty = poverty.drop(*columns_to_drop)\n",
    "poverty.count()\n",
    "poverty.write \\\n",
    "    .format(\"jdbc\") \\\n",
    "    .option(\"url\", \"jdbc:postgresql://db:5432/database\")\\\n",
    "    .option(\"dbtable\", \"poverty\") \\\n",
    "    .option(\"user\", \"username\") \\\n",
    "    .option(\"password\", \"secret\") \\\n",
    "    .option(\"driver\", \"org.postgresql.Driver\") \\\n",
    "    .save()"
   ]
  },
  {
   "cell_type": "markdown",
   "metadata": {},
   "source": [
    "# Population"
   ]
  },
  {
   "cell_type": "code",
   "execution_count": 37,
   "metadata": {},
   "outputs": [],
   "source": [
    "population = spark.read \\\n",
    "    .format(\"jdbc\") \\\n",
    "    .option(\"url\", \"jdbc:postgresql://db:5432/database\")\\\n",
    "    .option(\"dbtable\", \"population_tmp\") \\\n",
    "    .option(\"user\", \"username\") \\\n",
    "    .option(\"password\", \"secret\") \\\n",
    "    .option(\"driver\", \"org.postgresql.Driver\") \\\n",
    "    .load()\n",
    "\n",
    "col_list = ['STATE','COUNTY']\n",
    "def state(x):\n",
    "    x = str(x)\n",
    "    if len(x) ==1:\n",
    "        x = '0'+ x\n",
    "    return x\n",
    "def county(x):\n",
    "    x = str(x)\n",
    "    if len(x)==1:\n",
    "        x = '00'+ x\n",
    "    elif len(x)==2:\n",
    "        x = '0' + x\n",
    "    return x\n",
    "state_convert = F.udf(lambda x: state(x)) \n",
    "county_convert = F.udf(lambda x: county(x)) \n",
    "\n",
    "population = population.withColumn(\"STATE\", state_convert(F.col(\"STATE\")))\n",
    "population = population.withColumn(\"COUNTY\", county_convert(F.col(\"COUNTY\")))\n",
    "\n",
    "population = population.withColumn('FIPS',F.concat(*col_list))\n",
    "\n",
    "population = population.filter(population.AGEGRP=='0')\n",
    "selected = ['CTYNAME','TOT_POP','TOT_MALE','TOT_FEMALE','WA_MALE','WA_FEMALE','BA_MALE',\n",
    "'BA_FEMALE','IA_MALE','IA_FEMALE','AA_MALE','AA_FEMALE','H_MALE','H_FEMALE','FIPS']\n",
    "population = population[selected]\n",
    "population.count()\n",
    "population.write \\\n",
    "    .format(\"jdbc\") \\\n",
    "    .option(\"url\", \"jdbc:postgresql://db:5432/database\")\\\n",
    "    .option(\"dbtable\", \"population\") \\\n",
    "    .option(\"user\", \"username\") \\\n",
    "    .option(\"password\", \"secret\") \\\n",
    "    .option(\"driver\", \"org.postgresql.Driver\") \\\n",
    "    .save()\n"
   ]
  },
  {
   "cell_type": "markdown",
   "metadata": {},
   "source": [
    "# Daily"
   ]
  },
  {
   "cell_type": "code",
   "execution_count": null,
   "metadata": {},
   "outputs": [],
   "source": [
    "daily = spark.read \\\n",
    "    .format(\"jdbc\") \\\n",
    "    .option(\"url\", \"jdbc:postgresql://db:5432/database\")\\\n",
    "    .option(\"dbtable\", \"daily_covid_tmp\") \\\n",
    "    .option(\"user\", \"username\") \\\n",
    "    .option(\"password\", \"secret\") \\\n",
    "    .option(\"driver\", \"org.postgresql.Driver\") \\\n",
    "    .load()\n",
    "\n",
    "cols = ['date','state','positiveIncrease','death','fips']\n",
    "daily = daily[cols]\n",
    "daily = daily.withColumn(\"fips\", daily[\"fips\"].cast(StringType()))\n",
    "daily = daily.withColumnRenamed('fips','FIPS')\n",
    "daily.count()\n",
    "daily.write \\\n",
    "    .format(\"jdbc\") \\\n",
    "    .option(\"url\", \"jdbc:postgresql://db:5432/database\")\\\n",
    "    .option(\"dbtable\", \"daily\") \\\n",
    "    .option(\"user\", \"username\") \\\n",
    "    .option(\"password\", \"secret\") \\\n",
    "    .option(\"driver\", \"org.postgresql.Driver\") \\\n",
    "    .save()\n"
   ]
  },
  {
   "cell_type": "code",
   "execution_count": 42,
   "metadata": {},
   "outputs": [],
   "source": [
    "for table in tables:\n",
    "    dropTable(table)"
   ]
  }
 ],
 "metadata": {
  "kernelspec": {
   "display_name": "Python 3",
   "language": "python",
   "name": "python3"
  },
  "language_info": {
   "codemirror_mode": {
    "name": "ipython",
    "version": 3
   },
   "file_extension": ".py",
   "mimetype": "text/x-python",
   "name": "python",
   "nbconvert_exporter": "python",
   "pygments_lexer": "ipython3",
   "version": "3.8.6"
  }
 },
 "nbformat": 4,
 "nbformat_minor": 4
}
