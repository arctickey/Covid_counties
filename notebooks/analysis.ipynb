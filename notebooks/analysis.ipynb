{
 "cells": [
  {
   "cell_type": "code",
   "execution_count": null,
   "metadata": {},
   "outputs": [],
   "source": [
    "import plotly.figure_factory as ff\n",
    "import pandas as pd\n",
    "import psycopg2\n",
    "from sqlalchemy import create_engine\n",
    "engine = create_engine('postgresql+psycopg2://username:secret@db:5432/database')\n",
    "conn = psycopg2.connect(database=\"database\",user=\"username\", password=\"secret\",host=\"db\", port=\"5432\")\n",
    "cur = conn.cursor()\n",
    "import plotly.express as px\n",
    "from urllib.request import urlopen\n",
    "import json\n",
    "import plotly.express as px\n",
    "with urlopen('https://raw.githubusercontent.com/plotly/datasets/master/geojson-counties-fips.json') as response:\n",
    "    counties = json.load(response)\n",
    "import us\n",
    "import retrying\n",
    "import numpy as np\n",
    "\n"
   ]
  },
  {
   "cell_type": "code",
   "execution_count": 2,
   "metadata": {},
   "outputs": [],
   "source": [
    "def plot_states(df,col):\n",
    "\n",
    "    fig2 = px.choropleth(df, geojson=counties, locations='FIPS', color=col,\n",
    "                               color_continuous_scale=\"Viridis\",\n",
    "                               scope=\"usa\",\n",
    "                               labels={col:col}\n",
    "                              )\n",
    "    fig2.update_layout(margin={\"r\":0,\"t\":0,\"l\":0,\"b\":0})\n",
    "    fig2.show()"
   ]
  },
  {
   "cell_type": "markdown",
   "metadata": {},
   "source": [
    "# Covid cases by state per 100 000 inhabitants on the 1st of March 2021"
   ]
  },
  {
   "cell_type": "code",
   "execution_count": 45,
   "metadata": {},
   "outputs": [],
   "source": [
    "def abbr(x):\n",
    "    return us.states.lookup(x).abbr\n",
    "population = pd.read_sql_query('select * from population',con=engine)\n",
    "population['State_abbr'] =population['State_Code'].apply(abbr)\n",
    "pop = population.groupby('State_abbr').sum()"
   ]
  },
  {
   "cell_type": "code",
   "execution_count": 76,
   "metadata": {},
   "outputs": [],
   "source": [
    "\n",
    "daily = pd.read_sql_query('select * from daily',con=engine)\n",
    "daily = daily[daily['date']== 20210301]\n",
    "plot = pd.merge(daily,pop,left_on='state',right_on='State_abbr')\n",
    "plot['Avg_cases'] = np.round(plot['positiveIncrease']/plot['TOT_POP'] * 100000,2)"
   ]
  },
  {
   "cell_type": "code",
   "execution_count": 80,
   "metadata": {},
   "outputs": [],
   "source": [
    "\n",
    "fig1 = px.choropleth(plot, locations= plot['state'],locationmode='USA-states',color =plot['Avg_cases'],\n",
    "                     color_continuous_scale='inferno',scope='usa',title='Covid cases in USA on 1st March')\n",
    "fig1.update_layout(margin={\"r\":0,\"l\":0,\"b\":0})\n",
    "fig1.write_html('./plots/1st_march.html')"
   ]
  },
  {
   "cell_type": "markdown",
   "metadata": {},
   "source": [
    "# Total cases per state per 1000 inhabitants"
   ]
  },
  {
   "cell_type": "code",
   "execution_count": 83,
   "metadata": {},
   "outputs": [],
   "source": [
    "base= pd.read_sql_query('select * from daily',con=engine)\n",
    "states = base.groupby('state').agg({'positiveIncrease':'sum','FIPS':'first','death':'sum'})\n",
    "states.reset_index(inplace=True)\n",
    "pop = population.groupby('State_abbr')['TOT_POP'].sum()\n",
    "plot = pd.merge(states,pop,left_on='state',right_on='State_abbr')\n",
    "plot['Avg_cases'] = np.round((plot['positiveIncrease']*1000/plot['TOT_POP']),2)\n",
    "plot['Death_avg'] = np.round((plot['death']*1000/plot['TOT_POP']),2)"
   ]
  },
  {
   "cell_type": "code",
   "execution_count": 103,
   "metadata": {},
   "outputs": [],
   "source": [
    "fig1 = px.choropleth(plot, locations= plot['state'],locationmode='USA-states',color =plot['Avg_cases'],\n",
    "                     color_continuous_scale='inferno',scope='usa',title='Total covid cases per state per 1000 inhabitants')\n",
    "fig1.update_layout(margin={\"r\":0,\"l\":0,\"b\":0})\n",
    "fig1.write_html('./plots/cases_by_state.html')"
   ]
  },
  {
   "cell_type": "code",
   "execution_count": 84,
   "metadata": {},
   "outputs": [],
   "source": [
    "\n",
    "fig1 = px.choropleth(plot, locations= plot['state'],locationmode='USA-states',color =plot['Death_avg'],\n",
    "                     color_continuous_scale='inferno',scope='usa',title='Total covid cases per state per 1000 inhabitants')\n",
    "fig1.update_layout(margin={\"r\":0,\"l\":0,\"b\":0})\n",
    "fig1.write_html('./plots/deaths_by_state.html')"
   ]
  },
  {
   "cell_type": "markdown",
   "metadata": {},
   "source": [
    "# Total amount of cases per county"
   ]
  },
  {
   "cell_type": "code",
   "execution_count": 67,
   "metadata": {},
   "outputs": [],
   "source": [
    "base = pd.read_sql_query('select * from base',con=engine)\n",
    "cases = base.groupby('FIPS')['cases'].sum()"
   ]
  },
  {
   "cell_type": "code",
   "execution_count": 70,
   "metadata": {},
   "outputs": [],
   "source": [
    "out = pd.merge(base,population,left_on='FIPS',right_on='FIPS')\n",
    "out = out.groupby('FIPS').agg({'cases':'max','TOT_POP':'first','county':'first'})\n"
   ]
  },
  {
   "cell_type": "code",
   "execution_count": null,
   "metadata": {},
   "outputs": [],
   "source": [
    "out['Avg_cases'] = np.round((out['cases']/out['TOT_POP']),2)\n",
    "out.reset_index(inplace=True)\n",
    "plot_states(out,'Avg_cases')"
   ]
  },
  {
   "cell_type": "markdown",
   "metadata": {},
   "source": [
    "# Covid day-by day in TX and NY"
   ]
  },
  {
   "cell_type": "code",
   "execution_count": 3,
   "metadata": {},
   "outputs": [],
   "source": [
    "df = pd.read_sql_query('select * from base',con=engine)\n",
    "df = df.loc[:,['cases','state','date']]\n"
   ]
  },
  {
   "cell_type": "code",
   "execution_count": 6,
   "metadata": {},
   "outputs": [],
   "source": [
    "tx = df[df['state']=='Texas']\n",
    "tx = tx.groupby('date').sum().diff().fillna(0)\n",
    "\n",
    "ny = df[df['state']=='New York']\n",
    "ny = ny.groupby('date').sum().diff().fillna(0)"
   ]
  },
  {
   "cell_type": "code",
   "execution_count": 85,
   "metadata": {},
   "outputs": [],
   "source": [
    "from plotly.subplots import make_subplots\n",
    "import plotly.graph_objects as go\n",
    "\n",
    "fig = make_subplots(rows=1, cols=2,subplot_titles=(\"Cases in TX\", \"Cases in NY\") )\n",
    "\n",
    "fig.add_trace(\n",
    "   go.Scatter(x=tx.index, y=tx[\"cases\"],name='TX'),row=1, col=1)\n",
    "\n",
    "\n",
    "fig.add_trace(\n",
    "    go.Scatter(x=ny.index, y=ny[\"cases\"],name='NY'),row=1, col=2)\n",
    "\n",
    "\n",
    "fig.update_layout(margin={\"r\":0,\"l\":0,\"b\":0})\n",
    "fig.write_html('./plots/TX_vs_NY.html')"
   ]
  },
  {
   "cell_type": "markdown",
   "metadata": {},
   "source": [
    "# Poverty by county"
   ]
  },
  {
   "cell_type": "code",
   "execution_count": null,
   "metadata": {},
   "outputs": [],
   "source": [
    "df = pd.read_sql_query('select * from poverty',con=engine)\n",
    "df.loc[df['FIPS'] == '35039','Pov_Rate']=0\n",
    "df[df['FIPS'] == '35039']\n",
    "plot_states(df,'Pov_Rate')"
   ]
  },
  {
   "cell_type": "markdown",
   "metadata": {},
   "source": [
    "# Education by county"
   ]
  },
  {
   "cell_type": "code",
   "execution_count": null,
   "metadata": {},
   "outputs": [],
   "source": [
    "df = pd.read_sql_query('select * from education',con=engine)\n",
    "plot_states(df,'HS_plus')"
   ]
  },
  {
   "cell_type": "markdown",
   "metadata": {},
   "source": [
    "# Popoulation by county"
   ]
  },
  {
   "cell_type": "markdown",
   "metadata": {},
   "source": [
    "## Black population"
   ]
  },
  {
   "cell_type": "code",
   "execution_count": 72,
   "metadata": {},
   "outputs": [],
   "source": [
    "\n",
    "df = pd.read_sql_query('select * from population',con=engine)\n",
    "df['BA_PR'] = (df['BA_MALE'] + df['BA_FEMALE']) / df['TOT_POP']"
   ]
  },
  {
   "cell_type": "code",
   "execution_count": null,
   "metadata": {},
   "outputs": [],
   "source": [
    "plot_states(df,'BA_PR')"
   ]
  },
  {
   "cell_type": "markdown",
   "metadata": {},
   "source": [
    "## Hispanic population"
   ]
  },
  {
   "cell_type": "code",
   "execution_count": 131,
   "metadata": {},
   "outputs": [],
   "source": [
    "df['H_PR'] = (df['H_MALE'] + df['H_FEMALE']) / df['TOT_POP']"
   ]
  },
  {
   "cell_type": "code",
   "execution_count": null,
   "metadata": {},
   "outputs": [],
   "source": [
    "plot_states(df,'H_PR')"
   ]
  }
 ],
 "metadata": {
  "kernelspec": {
   "display_name": "Python 3",
   "language": "python",
   "name": "python3"
  },
  "language_info": {
   "codemirror_mode": {
    "name": "ipython",
    "version": 3
   },
   "file_extension": ".py",
   "mimetype": "text/x-python",
   "name": "python",
   "nbconvert_exporter": "python",
   "pygments_lexer": "ipython3",
   "version": "3.8.6"
  }
 },
 "nbformat": 4,
 "nbformat_minor": 4
}
