{
 "cells": [
  {
   "cell_type": "code",
   "execution_count": 1,
   "metadata": {},
   "outputs": [],
   "source": [
    "import pandas as pd\n",
    "import psycopg2\n",
    "from pyspark.sql import SparkSession\n",
    "from pyspark.sql import functions as F\n",
    "from pyspark.sql.types import *\n",
    "from sqlalchemy import create_engine\n",
    "engine = create_engine('postgresql+psycopg2://username:secret@db:5432/database')\n",
    "conn = psycopg2.connect(database=\"database\",user=\"username\", password=\"secret\",host=\"db\", port=\"5432\")\n",
    "cur = conn.cursor()\n",
    "\n",
    "spark = SparkSession \\\n",
    "    .builder \\\n",
    "    .appName(\"Postgress\") \\\n",
    "    .config(\"spark.jars\", \"postgresql-42.2.18.jre7.jar\") \\\n",
    "    .getOrCreate()"
   ]
  },
  {
   "cell_type": "markdown",
   "metadata": {},
   "source": [
    "# Introduction"
   ]
  },
  {
   "cell_type": "markdown",
   "metadata": {},
   "source": [
    "My aim in this section is to analyze and try to predict the amount of covid cases in each US state on the next day. I will try to day basing on tables which I managed to prepare. I am goin to to take most important factors from each table on basing on that build a predicting model."
   ]
  },
  {
   "cell_type": "code",
   "execution_count": 82,
   "metadata": {},
   "outputs": [],
   "source": [
    "target = spark.read \\\n",
    "    .format(\"jdbc\") \\\n",
    "    .option(\"url\", \"jdbc:postgresql://db:5432/database\")\\\n",
    "    .option(\"dbtable\", \"daily\") \\\n",
    "    .option(\"user\", \"username\") \\\n",
    "    .option(\"password\", \"secret\") \\\n",
    "    .option(\"driver\", \"org.postgresql.Driver\") \\\n",
    "    .load()\n"
   ]
  },
  {
   "cell_type": "code",
   "execution_count": 83,
   "metadata": {},
   "outputs": [],
   "source": [
    "education = spark.read \\\n",
    "    .format(\"jdbc\") \\\n",
    "    .option(\"url\", \"jdbc:postgresql://db:5432/database\")\\\n",
    "    .option(\"dbtable\", \"education\") \\\n",
    "    .option(\"user\", \"username\") \\\n",
    "    .option(\"password\", \"secret\") \\\n",
    "    .option(\"driver\", \"org.postgresql.Driver\") \\\n",
    "    .load()"
   ]
  },
  {
   "cell_type": "code",
   "execution_count": 84,
   "metadata": {},
   "outputs": [],
   "source": [
    "poverty = spark.read \\\n",
    "    .format(\"jdbc\") \\\n",
    "    .option(\"url\", \"jdbc:postgresql://db:5432/database\")\\\n",
    "    .option(\"dbtable\", \"poverty\") \\\n",
    "    .option(\"user\", \"username\") \\\n",
    "    .option(\"password\", \"secret\") \\\n",
    "    .option(\"driver\", \"org.postgresql.Driver\") \\\n",
    "    .load()"
   ]
  },
  {
   "cell_type": "code",
   "execution_count": 85,
   "metadata": {},
   "outputs": [],
   "source": [
    "\n",
    "population = spark.read \\\n",
    "    .format(\"jdbc\") \\\n",
    "    .option(\"url\", \"jdbc:postgresql://db:5432/database\")\\\n",
    "    .option(\"dbtable\", \"population\") \\\n",
    "    .option(\"user\", \"username\") \\\n",
    "    .option(\"password\", \"secret\") \\\n",
    "    .option(\"driver\", \"org.postgresql.Driver\") \\\n",
    "    .load()"
   ]
  },
  {
   "cell_type": "markdown",
   "metadata": {},
   "source": [
    "# Aggregation"
   ]
  },
  {
   "cell_type": "markdown",
   "metadata": {},
   "source": [
    "First of all we need to aggregate all data per state in order to be able to join all tables."
   ]
  },
  {
   "cell_type": "code",
   "execution_count": 86,
   "metadata": {},
   "outputs": [],
   "source": [
    "education = education.withColumn('FIPS',education['FIPS'].substr(1,2))\n",
    "education = education.groupBy('FIPS').agg(F.mean('HS_plus'), F.mean('Bach_plus'),F.mean('Adanced_Degree'),F.sum('25Plus_Pop'))"
   ]
  },
  {
   "cell_type": "code",
   "execution_count": 87,
   "metadata": {},
   "outputs": [],
   "source": [
    "poverty = poverty.withColumn('FIPS',poverty['FIPS'].substr(1,2))\n",
    "poverty = poverty.groupBy('FIPS').agg(F.sum('Child_Pop'),F.sum('Elder_pop'),\n",
    "                            F.mean('Pov_Rate'),F.mean('Pov_Rate_Child'),F.mean('Pov_Rate_Elder')).drop('Total_Pop')"
   ]
  },
  {
   "cell_type": "code",
   "execution_count": 88,
   "metadata": {},
   "outputs": [],
   "source": [
    "population = population.groupBy('State_Code').agg(F.sum('TOT_POP'),F.sum('TOT_MALE'),F.sum('TOT_FEMALE'),\n",
    "                                     F.sum('WA_MALE'),F.sum('WA_FEMALE'),F.sum('BA_MALE'),\n",
    "                                     F.sum('BA_FEMALE'),F.sum('IA_MALE'),F.sum('IA_FEMALE'),F.sum('AA_MALE'),\n",
    "                                     F.sum('AA_FEMALE'),F.sum('H_MALE'),F.sum('H_FEMALE')).drop('CTYNAME','FIPS')\n",
    "population = population.withColumnRenamed('State_Code','FIPS')"
   ]
  },
  {
   "cell_type": "code",
   "execution_count": 89,
   "metadata": {},
   "outputs": [],
   "source": [
    "facts = education.join(poverty,'FIPS','inner').join(population,'FIPS','inner')"
   ]
  },
  {
   "cell_type": "code",
   "execution_count": 90,
   "metadata": {},
   "outputs": [],
   "source": [
    "def state(x):\n",
    "    x = str(x)\n",
    "    if len(x) ==1:\n",
    "        x = '0'+ x\n",
    "    return x\n",
    "state_convert = F.udf(lambda x: state(x)) \n",
    "target = target.withColumn(\"FIPS\", state_convert(F.col(\"FIPS\")))"
   ]
  },
  {
   "cell_type": "code",
   "execution_count": 91,
   "metadata": {},
   "outputs": [],
   "source": [
    "df = facts.join(target,'FIPS','inner')"
   ]
  },
  {
   "cell_type": "code",
   "execution_count": 92,
   "metadata": {},
   "outputs": [],
   "source": [
    "target = df.filter(df.date==20210301)\n",
    "df = df.filter(df.date!=20210301)\n",
    "df = df.drop('death')\n",
    "cols = ['FIPS','state','positiveIncrease']\n",
    "target = target[cols]"
   ]
  },
  {
   "cell_type": "code",
   "execution_count": 95,
   "metadata": {},
   "outputs": [],
   "source": [
    "target.write \\\n",
    "    .format(\"jdbc\") \\\n",
    "    .mode('overwrite')\\\n",
    "    .option(\"url\", \"jdbc:postgresql://db:5432/database\")\\\n",
    "    .option(\"dbtable\", \"target\") \\\n",
    "    .option(\"user\", \"username\") \\\n",
    "    .option(\"password\", \"secret\") \\\n",
    "    .option(\"driver\", \"org.postgresql.Driver\") \\\n",
    "    .save()"
   ]
  },
  {
   "cell_type": "code",
   "execution_count": 96,
   "metadata": {},
   "outputs": [],
   "source": [
    "df.write \\\n",
    "    .format(\"jdbc\") \\\n",
    "    .mode('overwrite')\\\n",
    "    .option(\"url\", \"jdbc:postgresql://db:5432/database\")\\\n",
    "    .option(\"dbtable\", \"model_df\") \\\n",
    "    .option(\"user\", \"username\") \\\n",
    "    .option(\"password\", \"secret\") \\\n",
    "    .option(\"driver\", \"org.postgresql.Driver\") \\\n",
    "    .save()"
   ]
  },
  {
   "cell_type": "markdown",
   "metadata": {},
   "source": [
    "# Modeling part"
   ]
  },
  {
   "cell_type": "markdown",
   "metadata": {},
   "source": [
    "In this part I will build a model which will use all available data to predict amount of covid cases next day."
   ]
  },
  {
   "cell_type": "code",
   "execution_count": 99,
   "metadata": {},
   "outputs": [
    {
     "data": {
      "text/plain": [
       "FIPS                   0\n",
       "avg(HS_plus)           0\n",
       "avg(Bach_plus)         0\n",
       "avg(Adanced_Degree)    0\n",
       "sum(25Plus_Pop)        0\n",
       "sum(Child_Pop)         0\n",
       "sum(Elder_pop)         0\n",
       "avg(Pov_Rate)          0\n",
       "avg(Pov_Rate_Child)    0\n",
       "avg(Pov_Rate_Elder)    0\n",
       "sum(TOT_POP)           0\n",
       "sum(TOT_MALE)          0\n",
       "sum(TOT_FEMALE)        0\n",
       "sum(WA_MALE)           0\n",
       "sum(WA_FEMALE)         0\n",
       "sum(BA_MALE)           0\n",
       "sum(BA_FEMALE)         0\n",
       "sum(IA_MALE)           0\n",
       "sum(IA_FEMALE)         0\n",
       "sum(AA_MALE)           0\n",
       "sum(AA_FEMALE)         0\n",
       "sum(H_MALE)            0\n",
       "sum(H_FEMALE)          0\n",
       "date                   0\n",
       "state                  0\n",
       "positiveIncrease       0\n",
       "dtype: int64"
      ]
     },
     "execution_count": 99,
     "metadata": {},
     "output_type": "execute_result"
    }
   ],
   "source": [
    "df = pd.read_sql_query('select * from model_df',con=engine)\n",
    "df.isnull().sum()"
   ]
  },
  {
   "cell_type": "code",
   "execution_count": null,
   "metadata": {},
   "outputs": [],
   "source": []
  }
 ],
 "metadata": {
  "kernelspec": {
   "display_name": "Python 3",
   "language": "python",
   "name": "python3"
  },
  "language_info": {
   "codemirror_mode": {
    "name": "ipython",
    "version": 3
   },
   "file_extension": ".py",
   "mimetype": "text/x-python",
   "name": "python",
   "nbconvert_exporter": "python",
   "pygments_lexer": "ipython3",
   "version": "3.8.6"
  }
 },
 "nbformat": 4,
 "nbformat_minor": 4
}
